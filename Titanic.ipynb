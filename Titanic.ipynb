{
  "metadata": {
    "kernelspec": {
      "language": "python",
      "display_name": "Python 3",
      "name": "python3"
    },
    "language_info": {
      "name": "python",
      "version": "3.11.11",
      "mimetype": "text/x-python",
      "codemirror_mode": {
        "name": "ipython",
        "version": 3
      },
      "pygments_lexer": "ipython3",
      "nbconvert_exporter": "python",
      "file_extension": ".py"
    },
    "kaggle": {
      "accelerator": "none",
      "dataSources": [
        {
          "sourceId": 12249831,
          "sourceType": "datasetVersion",
          "datasetId": 7718500
        }
      ],
      "dockerImageVersionId": 31040,
      "isInternetEnabled": false,
      "language": "python",
      "sourceType": "notebook",
      "isGpuEnabled": false
    },
    "colab": {
      "name": "Assignment3",
      "provenance": [],
      "include_colab_link": true
    }
  },
  "nbformat_minor": 0,
  "nbformat": 4,
  "cells": [
    {
      "cell_type": "markdown",
      "metadata": {
        "id": "view-in-github",
        "colab_type": "text"
      },
      "source": [
        "<a href=\"https://colab.research.google.com/github/Rachael-Kibicho/CubeSat/blob/main/Titanic.ipynb\" target=\"_parent\"><img src=\"https://colab.research.google.com/assets/colab-badge.svg\" alt=\"Open In Colab\"/></a>"
      ]
    },
    {
      "source": [
        "# IMPORTANT: SOME KAGGLE DATA SOURCES ARE PRIVATE\n",
        "# RUN THIS CELL IN ORDER TO IMPORT YOUR KAGGLE DATA SOURCES.\n",
        "import kagglehub\n",
        "kagglehub.login()\n"
      ],
      "metadata": {
        "id": "nmgz-JBw4uxH"
      },
      "cell_type": "code",
      "outputs": [],
      "execution_count": null
    },
    {
      "source": [
        "# IMPORTANT: RUN THIS CELL IN ORDER TO IMPORT YOUR KAGGLE DATA SOURCES,\n",
        "# THEN FEEL FREE TO DELETE THIS CELL.\n",
        "# NOTE: THIS NOTEBOOK ENVIRONMENT DIFFERS FROM KAGGLE'S PYTHON\n",
        "# ENVIRONMENT SO THERE MAY BE MISSING LIBRARIES USED BY YOUR\n",
        "# NOTEBOOK.\n",
        "\n",
        "rachaelkibicho_titanic_22_06_path = kagglehub.dataset_download('rachaelkibicho/titanic-22-06')\n",
        "\n",
        "print('Data source import complete.')\n"
      ],
      "metadata": {
        "id": "rDhto7W_4uxN"
      },
      "cell_type": "code",
      "outputs": [],
      "execution_count": null
    },
    {
      "cell_type": "code",
      "source": [
        "import pandas as pd\n",
        "import numpy as np\n",
        "import matplotlib.pyplot as plt\n",
        "import seaborn as sns\n",
        "import missingno as msno\n",
        "\n",
        "sns.set_theme(style='darkgrid', context='notebook')\n",
        "\n",
        "import warnings\n",
        "warnings.filterwarnings('ignore')"
      ],
      "metadata": {
        "trusted": true,
        "execution": {
          "iopub.status.busy": "2025-07-02T07:32:20.120988Z",
          "iopub.execute_input": "2025-07-02T07:32:20.121291Z",
          "iopub.status.idle": "2025-07-02T07:32:21.437097Z",
          "shell.execute_reply.started": "2025-07-02T07:32:20.121268Z",
          "shell.execute_reply": "2025-07-02T07:32:21.436182Z"
        },
        "id": "bgi3AwOX4uxP"
      },
      "outputs": [],
      "execution_count": null
    },
    {
      "cell_type": "code",
      "source": [
        "train = pd.read_csv('/kaggle/input/titanic-22-06/train.csv')\n",
        "test = pd.read_csv('/kaggle/input/titanic-22-06/test.csv')\n",
        "gender_submission = pd.read_csv('/kaggle/input/titanic-22-06/gender_submission.csv')"
      ],
      "metadata": {
        "trusted": true,
        "execution": {
          "iopub.status.busy": "2025-07-02T07:32:21.438293Z",
          "iopub.execute_input": "2025-07-02T07:32:21.438958Z",
          "iopub.status.idle": "2025-07-02T07:32:21.480132Z",
          "shell.execute_reply.started": "2025-07-02T07:32:21.438929Z",
          "shell.execute_reply": "2025-07-02T07:32:21.479352Z"
        },
        "id": "mNPMKIvu4uxQ"
      },
      "outputs": [],
      "execution_count": null
    },
    {
      "cell_type": "markdown",
      "source": [
        "### Getting the lay of the land\n"
      ],
      "metadata": {
        "id": "Bk6asWg24uxR"
      }
    },
    {
      "cell_type": "code",
      "source": [
        "train.info()"
      ],
      "metadata": {
        "trusted": true,
        "execution": {
          "iopub.status.busy": "2025-07-02T07:32:21.480937Z",
          "iopub.execute_input": "2025-07-02T07:32:21.481195Z",
          "iopub.status.idle": "2025-07-02T07:32:21.508131Z",
          "shell.execute_reply.started": "2025-07-02T07:32:21.48117Z",
          "shell.execute_reply": "2025-07-02T07:32:21.507244Z"
        },
        "id": "zMEh-rTk4uxV"
      },
      "outputs": [],
      "execution_count": null
    },
    {
      "cell_type": "code",
      "source": [
        "train['Survived'] = train['Survived'].astype('category')\n",
        "train['Pclass'] = train['Pclass'].astype('category')\n",
        "train['Sex'] = train['Sex'].astype('category')\n",
        "train['Cabin'] = train['Cabin'].astype('category')\n",
        "train['Embarked'] = train['Embarked'].astype('category')"
      ],
      "metadata": {
        "trusted": true,
        "execution": {
          "iopub.status.busy": "2025-07-02T07:32:21.509775Z",
          "iopub.execute_input": "2025-07-02T07:32:21.510029Z",
          "iopub.status.idle": "2025-07-02T07:32:21.531094Z",
          "shell.execute_reply.started": "2025-07-02T07:32:21.510008Z",
          "shell.execute_reply": "2025-07-02T07:32:21.530304Z"
        },
        "id": "hgr4Tx5N4uxW"
      },
      "outputs": [],
      "execution_count": null
    },
    {
      "cell_type": "code",
      "source": [
        "train.info()"
      ],
      "metadata": {
        "trusted": true,
        "execution": {
          "iopub.status.busy": "2025-07-02T07:32:21.531959Z",
          "iopub.execute_input": "2025-07-02T07:32:21.532216Z",
          "iopub.status.idle": "2025-07-02T07:32:21.558105Z",
          "shell.execute_reply.started": "2025-07-02T07:32:21.532195Z",
          "shell.execute_reply": "2025-07-02T07:32:21.557353Z"
        },
        "id": "erG1uMdp4uxY"
      },
      "outputs": [],
      "execution_count": null
    },
    {
      "cell_type": "code",
      "source": [
        "train.describe().T"
      ],
      "metadata": {
        "trusted": true,
        "execution": {
          "iopub.status.busy": "2025-07-02T07:32:21.558937Z",
          "iopub.execute_input": "2025-07-02T07:32:21.559186Z",
          "iopub.status.idle": "2025-07-02T07:32:21.638812Z",
          "shell.execute_reply.started": "2025-07-02T07:32:21.559166Z",
          "shell.execute_reply": "2025-07-02T07:32:21.63781Z"
        },
        "id": "i-soQXDZ4uxZ"
      },
      "outputs": [],
      "execution_count": null
    },
    {
      "cell_type": "code",
      "source": [
        "train.head()"
      ],
      "metadata": {
        "trusted": true,
        "execution": {
          "iopub.status.busy": "2025-07-02T07:32:21.639702Z",
          "iopub.execute_input": "2025-07-02T07:32:21.639934Z",
          "iopub.status.idle": "2025-07-02T07:32:21.655342Z",
          "shell.execute_reply.started": "2025-07-02T07:32:21.639913Z",
          "shell.execute_reply": "2025-07-02T07:32:21.654364Z"
        },
        "id": "rR5I7rqy4uxZ"
      },
      "outputs": [],
      "execution_count": null
    },
    {
      "cell_type": "code",
      "source": [
        "train.columns"
      ],
      "metadata": {
        "trusted": true,
        "execution": {
          "iopub.status.busy": "2025-07-02T07:32:21.656273Z",
          "iopub.execute_input": "2025-07-02T07:32:21.656578Z",
          "iopub.status.idle": "2025-07-02T07:32:21.674251Z",
          "shell.execute_reply.started": "2025-07-02T07:32:21.656549Z",
          "shell.execute_reply": "2025-07-02T07:32:21.673306Z"
        },
        "id": "xsgyxh3m4uxa"
      },
      "outputs": [],
      "execution_count": null
    },
    {
      "cell_type": "code",
      "source": [
        "train.nunique()"
      ],
      "metadata": {
        "trusted": true,
        "execution": {
          "iopub.status.busy": "2025-07-02T07:32:21.675171Z",
          "iopub.execute_input": "2025-07-02T07:32:21.675535Z",
          "iopub.status.idle": "2025-07-02T07:32:21.700856Z",
          "shell.execute_reply.started": "2025-07-02T07:32:21.675507Z",
          "shell.execute_reply": "2025-07-02T07:32:21.699998Z"
        },
        "id": "8dDWp7KQ4uxb"
      },
      "outputs": [],
      "execution_count": null
    },
    {
      "cell_type": "markdown",
      "source": [
        "### Checking for inconsistencies"
      ],
      "metadata": {
        "id": "ZDy0YtPS4uxc"
      }
    },
    {
      "cell_type": "markdown",
      "source": [
        "#### Let's drop the unnecessary values"
      ],
      "metadata": {
        "id": "lpLlWL8F4uxc"
      }
    },
    {
      "cell_type": "code",
      "source": [
        "train = train.drop(columns = ['PassengerId'])\n",
        "train = train.drop(columns = ['Name'])"
      ],
      "metadata": {
        "trusted": true,
        "execution": {
          "iopub.status.busy": "2025-07-02T07:32:21.7043Z",
          "iopub.execute_input": "2025-07-02T07:32:21.704549Z",
          "iopub.status.idle": "2025-07-02T07:32:21.721425Z",
          "shell.execute_reply.started": "2025-07-02T07:32:21.70453Z",
          "shell.execute_reply": "2025-07-02T07:32:21.720487Z"
        },
        "id": "sOmuNSF34uxd"
      },
      "outputs": [],
      "execution_count": null
    },
    {
      "cell_type": "code",
      "source": [
        "def show_unique_values(train):\n",
        "    categorical_columns = train.select_dtypes(include='category').columns\n",
        "    print(f'Categorical Columns: {list(categorical_columns)}\\n')\n",
        "\n",
        "    for col in categorical_columns:\n",
        "        print(f'Unique valus in {col} are : {train[col].unique()}\\n')"
      ],
      "metadata": {
        "trusted": true,
        "execution": {
          "iopub.status.busy": "2025-07-02T07:32:21.722356Z",
          "iopub.execute_input": "2025-07-02T07:32:21.722628Z",
          "iopub.status.idle": "2025-07-02T07:32:21.740372Z",
          "shell.execute_reply.started": "2025-07-02T07:32:21.722582Z",
          "shell.execute_reply": "2025-07-02T07:32:21.739366Z"
        },
        "id": "Cw9rWuvO4uxd"
      },
      "outputs": [],
      "execution_count": null
    },
    {
      "cell_type": "markdown",
      "source": [
        "#### Let's now check the unique categorical values in the dataset"
      ],
      "metadata": {
        "id": "p0KoV4ky4uxe"
      }
    },
    {
      "cell_type": "code",
      "source": [
        "show_unique_values(train)"
      ],
      "metadata": {
        "trusted": true,
        "execution": {
          "iopub.status.busy": "2025-07-02T07:32:21.741412Z",
          "iopub.execute_input": "2025-07-02T07:32:21.741763Z",
          "iopub.status.idle": "2025-07-02T07:32:21.763169Z",
          "shell.execute_reply.started": "2025-07-02T07:32:21.741733Z",
          "shell.execute_reply": "2025-07-02T07:32:21.762323Z"
        },
        "id": "2CefJh994uxe"
      },
      "outputs": [],
      "execution_count": null
    },
    {
      "cell_type": "code",
      "source": [
        "duplicates = train[train.duplicated()]\n",
        "duplicates"
      ],
      "metadata": {
        "trusted": true,
        "execution": {
          "iopub.status.busy": "2025-07-02T07:32:21.764082Z",
          "iopub.execute_input": "2025-07-02T07:32:21.764583Z",
          "iopub.status.idle": "2025-07-02T07:32:21.787693Z",
          "shell.execute_reply.started": "2025-07-02T07:32:21.76456Z",
          "shell.execute_reply": "2025-07-02T07:32:21.786859Z"
        },
        "id": "JqWiqwiL4uxf"
      },
      "outputs": [],
      "execution_count": null
    },
    {
      "cell_type": "code",
      "source": [
        "#Let's keep the first of each duplicate\n",
        "train.drop_duplicates(keep='first')"
      ],
      "metadata": {
        "trusted": true,
        "execution": {
          "iopub.status.busy": "2025-07-02T07:32:21.788842Z",
          "iopub.execute_input": "2025-07-02T07:32:21.789405Z",
          "iopub.status.idle": "2025-07-02T07:32:21.806617Z",
          "shell.execute_reply.started": "2025-07-02T07:32:21.789376Z",
          "shell.execute_reply": "2025-07-02T07:32:21.805962Z"
        },
        "id": "fRrlBPI14uxf"
      },
      "outputs": [],
      "execution_count": null
    },
    {
      "cell_type": "markdown",
      "source": [
        "#### Let's check the handle these missing values."
      ],
      "metadata": {
        "id": "ZUoeo8FM4uxg"
      }
    },
    {
      "cell_type": "code",
      "source": [
        "#Let's visualize the missing data\n",
        "msno.bar(train)"
      ],
      "metadata": {
        "trusted": true,
        "execution": {
          "iopub.status.busy": "2025-07-02T07:32:21.807427Z",
          "iopub.execute_input": "2025-07-02T07:32:21.807758Z",
          "iopub.status.idle": "2025-07-02T07:32:22.911074Z",
          "shell.execute_reply.started": "2025-07-02T07:32:21.807738Z",
          "shell.execute_reply": "2025-07-02T07:32:22.910213Z"
        },
        "id": "aS01DJRW4uxg"
      },
      "outputs": [],
      "execution_count": null
    },
    {
      "cell_type": "code",
      "source": [
        "#Null percentages\n",
        "missing_values = train.isnull().sum().sort_values(ascending=False)\n",
        "\n",
        "missing_percentages = (missing_values/len(train)) * 100\n",
        "\n",
        "print(pd.DataFrame({\n",
        "    'Missing Values': missing_values,\n",
        "    'Percentage': missing_percentages\n",
        "}))"
      ],
      "metadata": {
        "trusted": true,
        "execution": {
          "iopub.status.busy": "2025-07-02T07:32:22.912228Z",
          "iopub.execute_input": "2025-07-02T07:32:22.912561Z",
          "iopub.status.idle": "2025-07-02T07:32:22.921819Z",
          "shell.execute_reply.started": "2025-07-02T07:32:22.912533Z",
          "shell.execute_reply": "2025-07-02T07:32:22.920872Z"
        },
        "id": "4Q2bbX_84uxg"
      },
      "outputs": [],
      "execution_count": null
    },
    {
      "cell_type": "code",
      "source": [
        "#Cabin column has got to go\n",
        "\n",
        "train = train.drop(columns = ['Cabin'])\n",
        "train.columns"
      ],
      "metadata": {
        "trusted": true,
        "execution": {
          "iopub.status.busy": "2025-07-02T07:32:22.922739Z",
          "iopub.execute_input": "2025-07-02T07:32:22.923039Z",
          "iopub.status.idle": "2025-07-02T07:32:22.942729Z",
          "shell.execute_reply.started": "2025-07-02T07:32:22.923017Z",
          "shell.execute_reply": "2025-07-02T07:32:22.941909Z"
        },
        "id": "54PI2J7L4uxh"
      },
      "outputs": [],
      "execution_count": null
    },
    {
      "cell_type": "code",
      "source": [
        "#Imputing mean on age null values\n",
        "train.Age.fillna(train['Age'].mean(), inplace=True)"
      ],
      "metadata": {
        "trusted": true,
        "execution": {
          "iopub.status.busy": "2025-07-02T07:32:22.94349Z",
          "iopub.execute_input": "2025-07-02T07:32:22.943753Z",
          "iopub.status.idle": "2025-07-02T07:32:22.960434Z",
          "shell.execute_reply.started": "2025-07-02T07:32:22.943731Z",
          "shell.execute_reply": "2025-07-02T07:32:22.959721Z"
        },
        "id": "fmv6M_pR4uxh"
      },
      "outputs": [],
      "execution_count": null
    },
    {
      "cell_type": "code",
      "source": [
        "#Imputing mode on Pclass since it is categorical\n",
        "train.Embarked.fillna(train['Embarked'].mode()[0], inplace=True)"
      ],
      "metadata": {
        "trusted": true,
        "execution": {
          "iopub.status.busy": "2025-07-02T07:32:22.961272Z",
          "iopub.execute_input": "2025-07-02T07:32:22.962065Z",
          "iopub.status.idle": "2025-07-02T07:32:22.98015Z",
          "shell.execute_reply.started": "2025-07-02T07:32:22.962036Z",
          "shell.execute_reply": "2025-07-02T07:32:22.979409Z"
        },
        "id": "EyEXDZV-4uxh"
      },
      "outputs": [],
      "execution_count": null
    },
    {
      "cell_type": "code",
      "source": [
        "msno.bar(train)"
      ],
      "metadata": {
        "trusted": true,
        "execution": {
          "iopub.status.busy": "2025-07-02T07:32:22.981095Z",
          "iopub.execute_input": "2025-07-02T07:32:22.981348Z",
          "iopub.status.idle": "2025-07-02T07:32:23.744996Z",
          "shell.execute_reply.started": "2025-07-02T07:32:22.981327Z",
          "shell.execute_reply": "2025-07-02T07:32:23.744042Z"
        },
        "id": "0CAAe8pL4uxi"
      },
      "outputs": [],
      "execution_count": null
    },
    {
      "cell_type": "markdown",
      "source": [
        "### Univariate analysis for numerical columns\n"
      ],
      "metadata": {
        "id": "BX7-w8-m4uxi"
      }
    },
    {
      "cell_type": "markdown",
      "source": [
        "#### What is the age distribution of passengers"
      ],
      "metadata": {
        "id": "tGnzQT2D4uxj"
      }
    },
    {
      "cell_type": "code",
      "source": [
        "plt.figure(figsize=(25,10))\n",
        "sns.histplot(data=train, x='Age', bins=100, kde=True)\n",
        "plt.title('A graph to show the age distribution of passengers')\n",
        "plt.xlabel('Age')\n",
        "plt.ylabel('Count')\n",
        "plt.show()"
      ],
      "metadata": {
        "trusted": true,
        "execution": {
          "iopub.status.busy": "2025-07-02T07:32:23.746062Z",
          "iopub.execute_input": "2025-07-02T07:32:23.746378Z",
          "iopub.status.idle": "2025-07-02T07:32:24.251453Z",
          "shell.execute_reply.started": "2025-07-02T07:32:23.746347Z",
          "shell.execute_reply": "2025-07-02T07:32:24.250598Z"
        },
        "id": "fC-trFsg4uxk"
      },
      "outputs": [],
      "execution_count": null
    },
    {
      "cell_type": "code",
      "source": [
        "print(f\"This is the age mean: {train['Age'].mean()}\")\n",
        "print(f\"This is the age median: {train['Age'].median()}\")\n",
        "print(f\"This is the age skew: {train['Age'].skew()}\")"
      ],
      "metadata": {
        "trusted": true,
        "execution": {
          "iopub.status.busy": "2025-07-02T07:32:24.252377Z",
          "iopub.execute_input": "2025-07-02T07:32:24.252606Z",
          "iopub.status.idle": "2025-07-02T07:32:24.25857Z",
          "shell.execute_reply.started": "2025-07-02T07:32:24.25257Z",
          "shell.execute_reply": "2025-07-02T07:32:24.2577Z"
        },
        "id": "FMuwon7c4uxk"
      },
      "outputs": [],
      "execution_count": null
    },
    {
      "cell_type": "markdown",
      "source": [
        "The median is greater than the mean, so the distribution is negatively skewed.\n"
      ],
      "metadata": {
        "id": "sjkJGT-R4uxk"
      }
    },
    {
      "cell_type": "markdown",
      "source": [
        "#### How many passengers embarked from each location"
      ],
      "metadata": {
        "id": "Za908Ccl4uxl"
      }
    },
    {
      "cell_type": "code",
      "source": [
        "plt.figure(figsize=(10,8))\n",
        "sns.countplot(data=train, x='Embarked')\n",
        "plt.show()"
      ],
      "metadata": {
        "trusted": true,
        "execution": {
          "iopub.status.busy": "2025-07-02T07:32:24.25957Z",
          "iopub.execute_input": "2025-07-02T07:32:24.260485Z",
          "iopub.status.idle": "2025-07-02T07:32:24.422575Z",
          "shell.execute_reply.started": "2025-07-02T07:32:24.260463Z",
          "shell.execute_reply": "2025-07-02T07:32:24.421764Z"
        },
        "id": "bnWiMe464uxl"
      },
      "outputs": [],
      "execution_count": null
    },
    {
      "cell_type": "code",
      "source": [
        "train.groupby('Embarked').count()"
      ],
      "metadata": {
        "trusted": true,
        "execution": {
          "iopub.status.busy": "2025-07-02T07:32:24.423562Z",
          "iopub.execute_input": "2025-07-02T07:32:24.424336Z",
          "iopub.status.idle": "2025-07-02T07:32:24.435786Z",
          "shell.execute_reply.started": "2025-07-02T07:32:24.42431Z",
          "shell.execute_reply": "2025-07-02T07:32:24.43503Z"
        },
        "id": "UXTrj8tD4uxm"
      },
      "outputs": [],
      "execution_count": null
    },
    {
      "cell_type": "markdown",
      "source": [
        "Looks like most people came from point S."
      ],
      "metadata": {
        "id": "JR80F4mO4uxm"
      }
    },
    {
      "cell_type": "markdown",
      "source": [
        "#### Are ticket prices evenly distributed or are they skewed?"
      ],
      "metadata": {
        "id": "m_OZfdyO4uxm"
      }
    },
    {
      "cell_type": "code",
      "source": [
        "plt.figure(figsize=(25,10))\n",
        "sns.kdeplot(data=train, x='Fare', shade=True)\n",
        "plt.title('A graph to show the ticket price distribution ')\n",
        "plt.xlabel('Ticket')\n",
        "plt.ylabel('Count')\n",
        "plt.show()"
      ],
      "metadata": {
        "trusted": true,
        "execution": {
          "iopub.status.busy": "2025-07-02T07:32:24.43673Z",
          "iopub.execute_input": "2025-07-02T07:32:24.437059Z",
          "iopub.status.idle": "2025-07-02T07:32:24.84356Z",
          "shell.execute_reply.started": "2025-07-02T07:32:24.437016Z",
          "shell.execute_reply": "2025-07-02T07:32:24.842681Z"
        },
        "id": "E3IXvk0l4uxn"
      },
      "outputs": [],
      "execution_count": null
    },
    {
      "cell_type": "code",
      "source": [
        "print(f\"This is the ticket price mean: {train['Fare'].mean()}\")\n",
        "print(f\"This is the ticket price median: {train['Fare'].median()}\")\n",
        "print(f\"This is the ticket price skew: {train['Fare'].skew()}\")"
      ],
      "metadata": {
        "trusted": true,
        "execution": {
          "iopub.status.busy": "2025-07-02T07:32:24.84448Z",
          "iopub.execute_input": "2025-07-02T07:32:24.844739Z",
          "iopub.status.idle": "2025-07-02T07:32:24.850471Z",
          "shell.execute_reply.started": "2025-07-02T07:32:24.844714Z",
          "shell.execute_reply": "2025-07-02T07:32:24.849645Z"
        },
        "id": "OIdVcCQd4uxn"
      },
      "outputs": [],
      "execution_count": null
    },
    {
      "cell_type": "markdown",
      "source": [
        "The median is less than the mean, so the distribution is positively skewed."
      ],
      "metadata": {
        "id": "LOEok3Bl4uxv"
      }
    },
    {
      "cell_type": "markdown",
      "source": [
        "### Bivariate analysis for numerical columns\n"
      ],
      "metadata": {
        "id": "s-6M5EkA4uxw"
      }
    },
    {
      "cell_type": "markdown",
      "source": [
        "#### Does the fare change depending on the Pclass?"
      ],
      "metadata": {
        "id": "4zI1a2st4uxw"
      }
    },
    {
      "cell_type": "code",
      "source": [
        "# Visualizing distributions of fare grouped by Pclass\n",
        "plt.figure(figsize=(10,8))\n",
        "sns.boxplot(x='Pclass', y='Fare', data=train)\n",
        "plt.title('Boxplot for Pclass versus Fare')\n",
        "plt.xlabel('Passenger class')\n",
        "plt.show()"
      ],
      "metadata": {
        "trusted": true,
        "execution": {
          "iopub.status.busy": "2025-07-02T07:32:24.851436Z",
          "iopub.execute_input": "2025-07-02T07:32:24.851807Z",
          "iopub.status.idle": "2025-07-02T07:32:25.055324Z",
          "shell.execute_reply.started": "2025-07-02T07:32:24.85178Z",
          "shell.execute_reply": "2025-07-02T07:32:25.05439Z"
        },
        "id": "Y1rRUaBQ4uxx"
      },
      "outputs": [],
      "execution_count": null
    },
    {
      "cell_type": "markdown",
      "source": [
        "Yes indeed fare increases with Pclass, although there are exceptions.."
      ],
      "metadata": {
        "id": "8ry3O2tf4uxx"
      }
    },
    {
      "cell_type": "markdown",
      "source": [
        "#### Are younger passengers more likely to survive in the Titanic?\n"
      ],
      "metadata": {
        "id": "mn8Z20Sz4uxy"
      }
    },
    {
      "cell_type": "code",
      "source": [
        "# Let's use a count plot perhaps.\n",
        "plt.figure(figsize=(10,8))\n",
        "sns.histplot(data=train, x='Age', hue='Survived', color='dark')\n",
        "plt.title('Count Plot for showing passengers age against survival')\n",
        "plt.xlabel('Age of Passenger')\n",
        "plt.show()"
      ],
      "metadata": {
        "trusted": true,
        "execution": {
          "iopub.status.busy": "2025-07-02T07:32:25.060433Z",
          "iopub.execute_input": "2025-07-02T07:32:25.060755Z",
          "iopub.status.idle": "2025-07-02T07:32:25.469072Z",
          "shell.execute_reply.started": "2025-07-02T07:32:25.060728Z",
          "shell.execute_reply": "2025-07-02T07:32:25.468215Z"
        },
        "id": "b5kgecsR4uxy"
      },
      "outputs": [],
      "execution_count": null
    },
    {
      "cell_type": "markdown",
      "source": [
        "Yes indeed. It is only between age 0 to age 15, that we see there are more survivors than those who perished."
      ],
      "metadata": {
        "id": "bWXNHwqf4uxy"
      }
    },
    {
      "cell_type": "markdown",
      "source": [
        "#### Does the Embarked location affect survival rate?"
      ],
      "metadata": {
        "id": "_6dK8EQL4uxz"
      }
    },
    {
      "cell_type": "code",
      "source": [
        "survival_by_embarked = train[train['Survived']==1].groupby('Embarked').count()['Survived']\n",
        "death_by_embarked = train[train['Survived']==0].groupby('Embarked').count()['Survived']\n",
        "\n",
        "print(survival_by_embarked)\n",
        "print(death_by_embarked)\n",
        "\n",
        "\n"
      ],
      "metadata": {
        "trusted": true,
        "execution": {
          "iopub.status.busy": "2025-07-02T07:32:25.469927Z",
          "iopub.execute_input": "2025-07-02T07:32:25.470154Z",
          "iopub.status.idle": "2025-07-02T07:32:25.482913Z",
          "shell.execute_reply.started": "2025-07-02T07:32:25.470136Z",
          "shell.execute_reply": "2025-07-02T07:32:25.482091Z"
        },
        "id": "uaW8KvOr4uxz"
      },
      "outputs": [],
      "execution_count": null
    },
    {
      "cell_type": "markdown",
      "source": [
        "Given that the order of the populations that embarked was S greatest, then C then Q, it is not surprising that the toll of deaths and survivals follow the same route."
      ],
      "metadata": {
        "id": "USm8JJyB4ux2"
      }
    },
    {
      "cell_type": "markdown",
      "source": [
        "### Multivariate analysis"
      ],
      "metadata": {
        "id": "1CkWYClX4ux3"
      }
    },
    {
      "cell_type": "markdown",
      "source": [
        "#### How do Pclass, Age, and Fare jointly affect survival"
      ],
      "metadata": {
        "id": "jckrS-ZW4ux3"
      }
    },
    {
      "cell_type": "markdown",
      "source": [
        "Using multivariate regression technique"
      ],
      "metadata": {
        "id": "AVhPxhJm4ux4"
      }
    },
    {
      "cell_type": "code",
      "source": [
        "import statsmodels.api as sm\n",
        "X = train[['Pclass', 'Age', 'Fare']].copy()\n",
        "\n",
        "#adding intercept\n",
        "X = sm.add_constant(X)\n",
        "\n",
        "y = train['Survived']\n",
        "model = sm.Logit(y, X).fit()\n",
        "print(model.summary())\n"
      ],
      "metadata": {
        "trusted": true,
        "execution": {
          "iopub.status.busy": "2025-07-02T07:32:25.48378Z",
          "iopub.execute_input": "2025-07-02T07:32:25.484019Z",
          "iopub.status.idle": "2025-07-02T07:32:27.495952Z",
          "shell.execute_reply.started": "2025-07-02T07:32:25.484Z",
          "shell.execute_reply": "2025-07-02T07:32:27.495143Z"
        },
        "id": "sHySEB5z4ux4"
      },
      "outputs": [],
      "execution_count": null
    },
    {
      "cell_type": "markdown",
      "source": [
        "The very low p values of Pclass and Age show that they affect greatly the rates of survival, unlike Fare."
      ],
      "metadata": {
        "id": "BXMoTFxa4ux5"
      }
    },
    {
      "cell_type": "code",
      "source": [
        "plt.figure(figsize=(8,5))\n",
        "sns.violinplot(x='Embarked', y = 'Survived', data=train)\n",
        "plt.title('Survival Rate by Embarked points')\n",
        "plt.xlabel('Survived(0=no, 1=yes')\n",
        "plt.show()"
      ],
      "metadata": {
        "trusted": true,
        "execution": {
          "iopub.status.busy": "2025-07-02T07:33:04.482894Z",
          "iopub.execute_input": "2025-07-02T07:33:04.483217Z",
          "iopub.status.idle": "2025-07-02T07:33:04.721794Z",
          "shell.execute_reply.started": "2025-07-02T07:33:04.483192Z",
          "shell.execute_reply": "2025-07-02T07:33:04.720943Z"
        },
        "id": "518BxsA84ux6"
      },
      "outputs": [],
      "execution_count": null
    },
    {
      "cell_type": "markdown",
      "source": [
        "#### Are survival rates different for Embarked locations when considering Pclass?"
      ],
      "metadata": {
        "id": "cL2dpCT94ux6"
      }
    },
    {
      "cell_type": "code",
      "source": [
        "sns.catplot(data=train, x='Embarked', hue='Survived', col='Pclass', kind='count', height=4, aspect=0.8)\n",
        "plt.subplots_adjust(top=0.8)\n",
        "plt.suptitle('Survival Counts by Embarkation Port and Passenger Class')\n",
        "plt.show()"
      ],
      "metadata": {
        "trusted": true,
        "execution": {
          "iopub.status.busy": "2025-07-02T07:46:09.034877Z",
          "iopub.execute_input": "2025-07-02T07:46:09.035272Z",
          "iopub.status.idle": "2025-07-02T07:46:09.968442Z",
          "shell.execute_reply.started": "2025-07-02T07:46:09.03524Z",
          "shell.execute_reply": "2025-07-02T07:46:09.967549Z"
        },
        "id": "39kiPThV4ux6"
      },
      "outputs": [],
      "execution_count": null
    },
    {
      "cell_type": "markdown",
      "source": [
        "It seems like those who embarked on 1st class especially from Cherbourg were more likly to survive than those who embarked from Southampton on 3rd class.  "
      ],
      "metadata": {
        "id": "jRbGZZtt4ux7"
      }
    },
    {
      "cell_type": "markdown",
      "source": [
        "### OUTLIERS\n"
      ],
      "metadata": {
        "id": "cjRXLd5h4ux7"
      }
    },
    {
      "cell_type": "markdown",
      "source": [
        "#### DETECTING OUTLIERS"
      ],
      "metadata": {
        "id": "pleYPeE64ux8"
      }
    },
    {
      "cell_type": "markdown",
      "source": [
        "#### Now let's handle them"
      ],
      "metadata": {
        "id": "D8w2bJSt4ux8"
      }
    },
    {
      "cell_type": "code",
      "source": [
        "#using zscores\n",
        "from scipy.stats import zscore\n",
        "\n",
        "def detect_outliers_zscore(data, threshold=3):\n",
        "    zscores = zscore(data.dropna())\n",
        "    outliers = data[(abs(zscores) > threshold) | (abs(zscores < -threshold))]\n",
        "    return outliers\n",
        "\n",
        "\n",
        "outliers_parch = detect_outliers_zscore(train['Parch'])\n",
        "outliers_age = detect_outliers_zscore(train['Age'])\n",
        "outliers_fare = detect_outliers_zscore(train['Fare'])\n",
        "\n",
        "print(f\"Number of extreme values in parch: {len(outliers_parch)}, in age {len(outliers_age)}, in fare {len(outliers_fare)}\")\n",
        ""
      ],
      "metadata": {
        "trusted": true,
        "execution": {
          "iopub.status.busy": "2025-07-02T07:57:47.484221Z",
          "iopub.execute_input": "2025-07-02T07:57:47.484517Z",
          "iopub.status.idle": "2025-07-02T07:57:47.495415Z",
          "shell.execute_reply.started": "2025-07-02T07:57:47.484495Z",
          "shell.execute_reply": "2025-07-02T07:57:47.494454Z"
        },
        "id": "cN4JLMd74ux8"
      },
      "outputs": [],
      "execution_count": null
    },
    {
      "cell_type": "markdown",
      "source": [
        "I'll keep the outliers to study wealth in passengers and their ages."
      ],
      "metadata": {
        "id": "p6hY71_s4ux9"
      }
    },
    {
      "cell_type": "markdown",
      "source": [
        "#### Target variable exploration"
      ],
      "metadata": {
        "id": "4IJQw-5J4ux9"
      }
    },
    {
      "cell_type": "markdown",
      "source": [
        "Distribution of target variable"
      ],
      "metadata": {
        "id": "T0XT0WrU4ux-"
      }
    },
    {
      "cell_type": "code",
      "source": [
        "plt.figure(figsize=(8,5))\n",
        "sns.countplot(x='Pclass', hue='Sex', data = train[train['Survived'] == 1], palette='Set1')\n",
        "plt.title('Survivors by Gender and Passenger Class')\n",
        "plt.xlabel('Passenger Class')\n",
        "plt.ylabel('Survivor count')\n",
        "plt.legend()\n",
        "plt.show()\n",
        ""
      ],
      "metadata": {
        "trusted": true,
        "execution": {
          "iopub.status.busy": "2025-07-02T08:01:23.533664Z",
          "iopub.execute_input": "2025-07-02T08:01:23.53437Z",
          "iopub.status.idle": "2025-07-02T08:01:23.753899Z",
          "shell.execute_reply.started": "2025-07-02T08:01:23.534343Z",
          "shell.execute_reply": "2025-07-02T08:01:23.753082Z"
        },
        "id": "9NoBr4nm4ux-"
      },
      "outputs": [],
      "execution_count": null
    },
    {
      "cell_type": "markdown",
      "source": [
        "Men who came on first class are likely to survive than men who came on third class. Generally, women are more likely to survive than men, with the exception of first class, which I think is a wealth issue."
      ],
      "metadata": {
        "id": "6aKZsXpc4ux-"
      }
    },
    {
      "cell_type": "code",
      "source": [
        "sns.catplot(data=train, x='Embarked', hue='Survived', col='Pclass', kind='count', height=4, aspect=0.8)\n",
        "plt.subplots_adjust(top=0.8)\n",
        "plt.suptitle('Survival Counts by Embarkation Port and Passenger Class')\n",
        "plt.show()"
      ],
      "metadata": {
        "trusted": true,
        "execution": {
          "iopub.status.busy": "2025-07-02T08:13:49.441706Z",
          "iopub.execute_input": "2025-07-02T08:13:49.442548Z",
          "iopub.status.idle": "2025-07-02T08:13:50.34003Z",
          "shell.execute_reply.started": "2025-07-02T08:13:49.44252Z",
          "shell.execute_reply": "2025-07-02T08:13:50.339164Z"
        },
        "id": "a01bbWUW4ux_"
      },
      "outputs": [],
      "execution_count": null
    },
    {
      "cell_type": "markdown",
      "source": [
        "It seems like those who embarked on 1st class especially from Cherbourg were more likly to survive than those who embarked from Southampton on 3rd class.  "
      ],
      "metadata": {
        "id": "BBYvwRzK4ux_"
      }
    },
    {
      "cell_type": "markdown",
      "source": [
        "Skewness of the Survival feature"
      ],
      "metadata": {
        "id": "KBziXx3W4uyA"
      }
    },
    {
      "cell_type": "code",
      "source": [
        "plt.figure(figsize=(25,10))\n",
        "sns.countplot(x='Survived',data=train, palette='Set1')\n",
        "plt.title('A graph to show the survival distribution ')\n",
        "plt.xlabel('Survival')\n",
        "plt.ylabel('Count')\n",
        "plt.show()"
      ],
      "metadata": {
        "trusted": true,
        "execution": {
          "iopub.status.busy": "2025-07-02T08:06:43.983746Z",
          "iopub.execute_input": "2025-07-02T08:06:43.984051Z",
          "iopub.status.idle": "2025-07-02T08:06:44.198527Z",
          "shell.execute_reply.started": "2025-07-02T08:06:43.984031Z",
          "shell.execute_reply": "2025-07-02T08:06:44.197787Z"
        },
        "id": "6fazq5WI4uyA"
      },
      "outputs": [],
      "execution_count": null
    },
    {
      "cell_type": "code",
      "source": [],
      "metadata": {
        "trusted": true,
        "id": "sCI6Im834uyB"
      },
      "outputs": [],
      "execution_count": null
    }
  ]
}